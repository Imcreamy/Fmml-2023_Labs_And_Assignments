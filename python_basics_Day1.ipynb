{
  "nbformat": 4,
  "nbformat_minor": 0,
  "metadata": {
    "colab": {
      "provenance": [],
      "include_colab_link": true
    },
    "kernelspec": {
      "name": "python3",
      "display_name": "Python 3"
    },
    "language_info": {
      "name": "python"
    }
  },
  "cells": [
    {
      "cell_type": "markdown",
      "metadata": {
        "id": "view-in-github",
        "colab_type": "text"
      },
      "source": [
        "<a href=\"https://colab.research.google.com/github/Imcreamy/Fmml-2023_Labs_And_Assignments/blob/main/python_basics_Day1.ipynb\" target=\"_parent\"><img src=\"https://colab.research.google.com/assets/colab-badge.svg\" alt=\"Open In Colab\"/></a>"
      ]
    },
    {
      "cell_type": "markdown",
      "source": [
        "\n",
        "Declare a variable called \"aid\" and asign a value as your name then print the name like \"Kiet\"\n",
        "---\n",
        "\n"
      ],
      "metadata": {
        "id": "2UrXUibXpdQn"
      }
    },
    {
      "cell_type": "code",
      "source": [
        "#write your code here\n",
        "aid=\"kiet\"\n",
        "print(aid.capitalize())"
      ],
      "metadata": {
        "id": "-MFfUJNJp5wY",
        "colab": {
          "base_uri": "https://localhost:8080/"
        },
        "outputId": "02c82369-9069-4cd0-b919-d4e0f9d1b211"
      },
      "execution_count": null,
      "outputs": [
        {
          "output_type": "stream",
          "name": "stdout",
          "text": [
            "Kiet\n"
          ]
        }
      ]
    },
    {
      "cell_type": "markdown",
      "source": [
        " declare a value to the valrable then print the type of value"
      ],
      "metadata": {
        "id": "b9GaqLWgqBOW"
      }
    },
    {
      "cell_type": "code",
      "source": [
        "#write your code here\n",
        "a=3425\n",
        "print(type(a))"
      ],
      "metadata": {
        "id": "P_U7hv3VqaCM",
        "colab": {
          "base_uri": "https://localhost:8080/"
        },
        "outputId": "35bc5456-6143-4c11-cfec-79f20af9f283"
      },
      "execution_count": null,
      "outputs": [
        {
          "output_type": "stream",
          "name": "stdout",
          "text": [
            "<class 'int'>\n"
          ]
        }
      ]
    },
    {
      "cell_type": "markdown",
      "source": [
        "Write a python code using Format Method and \"fstrings\""
      ],
      "metadata": {
        "id": "qALPtb9iqdah"
      }
    },
    {
      "cell_type": "code",
      "source": [
        "#write your code here\n",
        "a=\"prasad\"\n",
        "b=\"kiet\"\n",
        "print(f\"{a} is studying in {b}\")"
      ],
      "metadata": {
        "id": "GybmaiaiqzQv",
        "colab": {
          "base_uri": "https://localhost:8080/"
        },
        "outputId": "0bd6d48e-8b19-4690-bafa-dcc484a5ded5"
      },
      "execution_count": null,
      "outputs": [
        {
          "output_type": "stream",
          "name": "stdout",
          "text": [
            "prasad is studying in kiet\n"
          ]
        }
      ]
    },
    {
      "cell_type": "markdown",
      "source": [
        "Write a python code using .join() method\n",
        "\n",
        "Input format:\n",
        "kiet\n",
        "Output format:\n",
        "kkiet"
      ],
      "metadata": {
        "id": "WnitQ77GpcWQ"
      }
    },
    {
      "cell_type": "code",
      "source": [
        "#write your code here\n",
        "a=\"kiet\"\n",
        "b=list(a)\n",
        "b.insert(0,'k')\n",
        "c=''.join(b)\n",
        "\n",
        "print(c)"
      ],
      "metadata": {
        "id": "zmQ2Y2wjrY7-",
        "colab": {
          "base_uri": "https://localhost:8080/"
        },
        "outputId": "0feb0f98-1746-4b51-dc73-80aef161982f"
      },
      "execution_count": null,
      "outputs": [
        {
          "output_type": "stream",
          "name": "stdout",
          "text": [
            "kkiet\n"
          ]
        }
      ]
    },
    {
      "cell_type": "markdown",
      "source": [
        "Write a python code for checking whether the person is eligible for  Vote or Not  using conditionals"
      ],
      "metadata": {
        "id": "xzP0JMI5rWQ9"
      }
    },
    {
      "cell_type": "code",
      "source": [
        "#write your code here\n",
        "a=int(input(\"Enter the number: \"))\n",
        "if (a>=18):\n",
        "  print(\"Eligible for vote\")\n",
        "else:\n",
        "  print(\"Not eligible for code\")"
      ],
      "metadata": {
        "id": "JEb5o1NTrz7V",
        "colab": {
          "base_uri": "https://localhost:8080/"
        },
        "outputId": "f7ddbb17-e2d2-450b-9320-f83b7d972f3b"
      },
      "execution_count": null,
      "outputs": [
        {
          "output_type": "stream",
          "name": "stdout",
          "text": [
            "Enter the number: 20\n",
            "Eligible for vote\n"
          ]
        }
      ]
    },
    {
      "cell_type": "markdown",
      "source": [
        "write simple codes using string methods:\n"
      ],
      "metadata": {
        "id": "KDH6s5xkr1L1"
      }
    },
    {
      "cell_type": "code",
      "source": [
        "#any 10 methods\n",
        "#write your code here\n",
        "\n",
        "#Capitalize()\n",
        "a=\"hello world\"\n",
        "print(a.capitalize())\n",
        "\n",
        "#casefold()\n",
        "a = \"Hello, I Am Abhinaya!\"\n",
        "b = a.casefold()\n",
        "print(b)\n",
        "\n",
        "#upper()\n",
        "a = \"Abhinaya\"\n",
        "b = a.upper()\n",
        "print(b)\n",
        "\n",
        "\n",
        "#lower()\n",
        "a = \"ABHINAYA\"\n",
        "b = a.lower()\n",
        "print(b)\n",
        "\n",
        "\n",
        "#isalnum()\n",
        "a = \"Abhinaya09\"\n",
        "b = a.isalnum()\n",
        "print(b)\n",
        "\n",
        "\n",
        "#isalpha()\n",
        "a = \"Abhinaya09\"\n",
        "b = a.isalpha()\n",
        "print(b)\n",
        "\n",
        "\n",
        "#isalnum()\n",
        "a = \"Abhinaya09\"\n",
        "b = a.isalnum()\n",
        "print(b)\n",
        "\n",
        "\n",
        "#isdecimal()\n",
        "a = \"1609\"\n",
        "b = a.isdecimal()\n",
        "print(b)\n",
        "\n",
        "\n",
        "#spilt()\n",
        "a=\"Welcome to my home\"\n",
        "b = a.split()\n",
        "print(b)\n",
        "\n",
        "\n",
        "a = \"     abhinaya     \"\n",
        "\n",
        "b = a.strip()\n",
        "\n",
        "print(b)"
      ],
      "metadata": {
        "id": "UiMrtWMPsagV",
        "colab": {
          "base_uri": "https://localhost:8080/"
        },
        "outputId": "ec91bed2-bfdc-444a-8b60-48355d79497b"
      },
      "execution_count": null,
      "outputs": [
        {
          "output_type": "stream",
          "name": "stdout",
          "text": [
            "Hello world\n",
            "hello, i am abhinaya!\n",
            "ABHINAYA\n",
            "abhinaya\n",
            "True\n",
            "False\n",
            "True\n",
            "True\n",
            "['Welcome', 'to', 'my', 'home']\n",
            "abhinaya\n"
          ]
        }
      ]
    },
    {
      "cell_type": "markdown",
      "source": [
        "#DEBUGGING"
      ],
      "metadata": {
        "id": "X4b8OXNish-E"
      }
    },
    {
      "cell_type": "code",
      "source": [
        "a=\"kiet\"\n",
        "b=\"kiek\"\n",
        "print(\"both {} and {} are in same campus\".format(a,b))\n",
        "#output should be like this\n",
        "#both kiet and kiek are in same campus"
      ],
      "metadata": {
        "colab": {
          "base_uri": "https://localhost:8080/"
        },
        "id": "eArmRQ2Xsg4b",
        "outputId": "ffccecef-4107-45bb-e3fa-9f7a05e0013a"
      },
      "execution_count": null,
      "outputs": [
        {
          "output_type": "stream",
          "name": "stdout",
          "text": [
            "both kiet and kiek are in same campus\n"
          ]
        }
      ]
    },
    {
      "cell_type": "code",
      "source": [
        "a=\"kiet\"\n",
        "b=\"kiek\"\n",
        "print(f\"both {a} and {b} are in same campus\")\n",
        "#both kiet and kiek are in same campus\n",
        "#correct the output\n"
      ],
      "metadata": {
        "colab": {
          "base_uri": "https://localhost:8080/"
        },
        "id": "NTSKMEAftLde",
        "outputId": "87457af6-1093-4662-d5e1-b9fedb0d1645"
      },
      "execution_count": null,
      "outputs": [
        {
          "output_type": "stream",
          "name": "stdout",
          "text": [
            "both kiet and kiek are in same campus\n"
          ]
        }
      ]
    },
    {
      "cell_type": "code",
      "source": [
        "a=5\n",
        "b=12\n",
        "if a==5 and b==12:\n",
        "  print(a,b)\n",
        "# correct the code\n"
      ],
      "metadata": {
        "colab": {
          "base_uri": "https://localhost:8080/"
        },
        "id": "1Kl6TiW5t85r",
        "outputId": "186ef4a2-f95e-4979-87f0-3fcae9e8f828"
      },
      "execution_count": null,
      "outputs": [
        {
          "output_type": "stream",
          "name": "stdout",
          "text": [
            "5 12\n"
          ]
        }
      ]
    },
    {
      "cell_type": "code",
      "source": [
        "if a%2==0:\n",
        "   print(\"a is divisible by 2\")\n",
        "\n",
        "else:\n",
        "    print(\"not divisible\")"
      ],
      "metadata": {
        "id": "HZn24oUpucy8",
        "colab": {
          "base_uri": "https://localhost:8080/"
        },
        "outputId": "72d05c87-2010-4627-e7fc-d7dfd8fbbca8"
      },
      "execution_count": null,
      "outputs": [
        {
          "output_type": "stream",
          "name": "stdout",
          "text": [
            "not divisible\n"
          ]
        }
      ]
    }
  ]
}